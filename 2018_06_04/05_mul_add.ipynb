{
 "cells": [
  {
   "cell_type": "markdown",
   "metadata": {},
   "source": [
    "乗算レイヤの実装"
   ]
  },
  {
   "cell_type": "markdown",
   "metadata": {},
   "source": [
    "MulLayer"
   ]
  },
  {
   "cell_type": "code",
   "execution_count": 14,
   "metadata": {
    "collapsed": true
   },
   "outputs": [],
   "source": [
    "class MulLayer:\n",
    "    def __init__(self):\n",
    "        self.x=None\n",
    "        self.y=None\n",
    "    \n",
    "    def forward(self,x,y):\n",
    "        self.x=x\n",
    "        self.y=y\n",
    "        out=x*y\n",
    "        \n",
    "        return out\n",
    "    \n",
    "    def backward(self,dout):\n",
    "        dx=dout*self.y#xとyをひっくり返す\n",
    "        dy=dout*self.x\n",
    "        \n",
    "        return dx,dy"
   ]
  },
  {
   "cell_type": "markdown",
   "metadata": {},
   "source": [
    "リンゴの例を実装"
   ]
  },
  {
   "cell_type": "code",
   "execution_count": 15,
   "metadata": {
    "collapsed": true
   },
   "outputs": [],
   "source": [
    "apple=100\n",
    "apple_num=2\n",
    "tax=1.1"
   ]
  },
  {
   "cell_type": "code",
   "execution_count": 16,
   "metadata": {
    "collapsed": true
   },
   "outputs": [],
   "source": [
    "#layer\n",
    "mul_apple_layer=MulLayer()\n",
    "mul_tax_layer=MulLayer()"
   ]
  },
  {
   "cell_type": "code",
   "execution_count": 17,
   "metadata": {
    "collapsed": false
   },
   "outputs": [
    {
     "name": "stdout",
     "output_type": "stream",
     "text": [
      "220.00000000000003\n"
     ]
    }
   ],
   "source": [
    "#forward\n",
    "apple_price=mul_apple_layer.forward(apple,apple_num)\n",
    "price=mul_tax_layer.forward(apple_price,tax)\n",
    "\n",
    "print(price)#220"
   ]
  },
  {
   "cell_type": "markdown",
   "metadata": {},
   "source": [
    "各変数に関する微分はbackward()で求める"
   ]
  },
  {
   "cell_type": "code",
   "execution_count": 18,
   "metadata": {
    "collapsed": false
   },
   "outputs": [
    {
     "name": "stdout",
     "output_type": "stream",
     "text": [
      "2.2 110.00000000000001 200\n"
     ]
    }
   ],
   "source": [
    "#backward\n",
    "dprice=1\n",
    "dapple_price,dtax=mul_tax_layer.backward(dprice)\n",
    "dapple,dapple_num=mul_apple_layer.backward(dapple_price)\n",
    "\n",
    "print(dapple,dapple_num,dtax)#2.2 110 200"
   ]
  },
  {
   "cell_type": "markdown",
   "metadata": {},
   "source": [
    "加算レイヤの実装"
   ]
  },
  {
   "cell_type": "code",
   "execution_count": 19,
   "metadata": {
    "collapsed": true
   },
   "outputs": [],
   "source": [
    "class AddLayer:\n",
    "    def __init__(self):\n",
    "        pass\n",
    "    \n",
    "    def forward(self,x,y):\n",
    "        out=x+y\n",
    "        return out\n",
    "    \n",
    "    def backward(self,dout):\n",
    "        dx=dout*1\n",
    "        dy=dout*1\n",
    "        return dx,dy"
   ]
  },
  {
   "cell_type": "markdown",
   "metadata": {},
   "source": [
    "リンゴとみかんの例を実装"
   ]
  },
  {
   "cell_type": "code",
   "execution_count": 20,
   "metadata": {
    "collapsed": true
   },
   "outputs": [],
   "source": [
    "apple=100\n",
    "apple_num=2\n",
    "orange=150\n",
    "orange_num=3\n",
    "tax=1.1"
   ]
  },
  {
   "cell_type": "code",
   "execution_count": 21,
   "metadata": {
    "collapsed": true
   },
   "outputs": [],
   "source": [
    "#layer\n",
    "mul_apple_layer=MulLayer()\n",
    "mul_orange_layer=MulLayer()\n",
    "add_apple_orange_layer=AddLayer()\n",
    "mul_tax_layer=MulLayer()"
   ]
  },
  {
   "cell_type": "code",
   "execution_count": 22,
   "metadata": {
    "collapsed": true
   },
   "outputs": [],
   "source": [
    "#forward\n",
    "apple_price=mul_apple_layer.forward(apple,apple_num)#(1)\n",
    "orange_price=mul_orange_layer.forward(orange,orange_num)#(2)\n",
    "all_price=add_apple_orange_layer.forward(apple_price,orange_price)#(3)\n",
    "price=mul_tax_layer.forward(all_price,tax)#(4)"
   ]
  },
  {
   "cell_type": "code",
   "execution_count": 23,
   "metadata": {
    "collapsed": false
   },
   "outputs": [
    {
     "name": "stdout",
     "output_type": "stream",
     "text": [
      "715.0000000000001\n",
      "110.00000000000001 2.2 3.3000000000000003 165.0 650\n"
     ]
    }
   ],
   "source": [
    "#backward\n",
    "dprice=1\n",
    "dall_price,dtax=mul_tax_layer.backward(dprice)#(4)\n",
    "dapple_price,dorange_price=add_apple_orange_layer.backward(dall_price)#(3)\n",
    "dorange,dorange_num=mul_orange_layer.backward(dorange_price)#(2)\n",
    "dapple,dapple_num=mul_apple_layer.backward(dapple_price)#(1)\n",
    "\n",
    "print(price)#715\n",
    "print(dapple_num,dapple,dorange,dorange_num,dtax)#110 2.2 3.3 165 650"
   ]
  }
 ],
 "metadata": {
  "kernelspec": {
   "display_name": "Python 3",
   "language": "python",
   "name": "python3"
  },
  "language_info": {
   "codemirror_mode": {
    "name": "ipython",
    "version": 3
   },
   "file_extension": ".py",
   "mimetype": "text/x-python",
   "name": "python",
   "nbconvert_exporter": "python",
   "pygments_lexer": "ipython3",
   "version": "3.6.0"
  }
 },
 "nbformat": 4,
 "nbformat_minor": 2
}
